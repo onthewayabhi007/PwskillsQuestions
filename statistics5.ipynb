{
 "cells": [
  {
   "cell_type": "code",
   "execution_count": 2,
   "metadata": {},
   "outputs": [],
   "source": [
    "# Q1. Assumptions required to use ANOVA:\n",
    "\n",
    "# Independence: The observations within each group are independent of each other.\n",
    "# Normality: The populations from which the samples are drawn should follow a normal distribution.\n",
    "# Homogeneity of variances: The variability of the dependent variable should be similar across all groups.\n",
    "# Violations that could impact the validity of ANOVA results:\n",
    "\n",
    "# Violation of independence: If observations within groups are not independent, such as in a repeated measures design where the same participants are measured multiple times, the assumption is violated.\n",
    "# Violation of normality: If the populations do not follow a normal distribution, it can affect the validity of ANOVA results. However, ANOVA is known to be robust to moderate departures from normality if the group sizes are large enough.\n",
    "# Violation of homogeneity of variances: If the variability of the dependent variable differs significantly across groups, it can impact the validity of ANOVA results. This violation is known as heteroscedasticity.\n",
    "\n",
    "\n",
    "# Q2. The three types of ANOVA are:\n",
    "\n",
    "# One-way ANOVA: Used when comparing the means of three or more independent groups on a single dependent variable.\n",
    "# Two-way ANOVA: Used when comparing the means of a single dependent variable across two independent variables(factors). It examines the main effects of each factor and their interaction effect.\n",
    "# Repeated measures ANOVA: Used when comparing the means of a single dependent variable measured on the same participants under different conditions. It accounts for within-subject correlation and analyzes the effect of the within-subject factor(s).\n",
    "\n",
    "\n",
    "# Q3. Partitioning of variance in ANOVA:\n",
    "\n",
    "# The partitioning of variance refers to the decomposition of the total variation in the data into different components. In ANOVA, the total variation is partitioned into two main components:\n",
    "\n",
    "# Between-group variation(explained variation): It represents the variation in the dependent variable that can be explained by the group differences or factors.\n",
    "# Within-group variation(residual variation): It represents the unexplained or random variation within each group, which is not attributable to the group differences.\n",
    "# Understanding this concept is important because it allows us to quantify the proportion of the total variation in the data that can be explained by the factors being studied. By comparing the explained variation to the residual variation, ANOVA determines whether the group differences are statistically significant.\n"
   ]
  },
  {
   "cell_type": "code",
   "execution_count": 4,
   "metadata": {},
   "outputs": [],
   "source": [
    "#Q4\n",
    "import statsmodels.api as sm\n",
    "from statsmodels.formula.api import ols\n",
    "\n",
    "# Assume you have your data stored in a Pandas DataFrame called 'df'\n",
    "model = ols('dependent_variable ~ group_variable', data=df).fit()\n",
    "anova_table = sm.stats.anova_lm(model, typ=2)\n",
    "\n",
    "# Extract the sum of squares values\n",
    "SST = anova_table['sum_sq']['group_variable']\n",
    "SSE = anova_table['sum_sq']['Residual']\n",
    "SSR = SST - SSE\n"
   ]
  },
  {
   "cell_type": "code",
   "execution_count": 7,
   "metadata": {},
   "outputs": [],
   "source": [
    "import statsmodels.api as sm\n",
    "from statsmodels.formula.api import ols\n",
    "\n",
    "# Assume you have your data stored in a Pandas DataFrame called 'df'\n",
    "model = ols(\n",
    "    'dependent_variable ~ factor1 + factor2 + factor1:factor2', data=df).fit()\n",
    "anova_table = sm.stats.anova_lm(model, typ=2)\n",
    "\n",
    "# Extract the sum of squares values\n",
    "main_effect_factor1 = anova_table['sum_sq']['factor1']\n",
    "main_effect_factor2 = anova_table['sum_sq']['factor2']\n",
    "interaction_effect = anova_table['sum_sq']['factor1:factor2']\n"
   ]
  },
  {
   "cell_type": "code",
   "execution_count": 8,
   "metadata": {},
   "outputs": [],
   "source": [
    "# Q6. Interpretation of one-way ANOVA results:\n",
    "\n",
    "# Given an F-statistic of 5.23 and a p-value of 0.02 in a one-way ANOVA, we can conclude that there is a statistically significant difference between the groups being compared. The F-statistic indicates the ratio of explained variation to unexplained variation, with larger values suggesting a stronger effect. The p-value of 0.02 indicates that the probability of obtaining such a significant difference by chance alone is only 2 % . Therefore, we reject the null hypothesis of no group differences and conclude that there are significant differences between at least some of the groups.\n",
    "\n",
    "# Q7. Handling missing data in repeated measures ANOVA:\n",
    "\n",
    "# When dealing with missing data in repeated measures ANOVA, there are a few possible approaches:\n",
    "\n",
    "# Complete-case analysis: Exclude participants with missing data from the analysis. This approach reduces the sample size but avoids imputation. However, it may introduce bias if missingness is related to the outcome or other variables of interest.\n",
    "\n",
    "# Pairwise deletion: Analyze only the available data for each pair of time points. This approach maximizes the use of available data but may yield biased estimates if missingness is related to the outcome.\n",
    "\n",
    "# Imputation: Fill in missing values using various imputation methods, such as mean imputation, regression imputation, or multiple imputation. Imputation allows for the inclusion of all participants but introduces uncertainty and assumptions about the missing values.\n",
    "\n",
    "# The consequences of using different methods to handle missing data can vary. Complete-case analysis and pairwise deletion may lead to biased results if missingness is related to the outcome or other variables. Imputation methods can introduce uncertainty and assumptions about the missing values, which may affect the precision and validity of the results.\n",
    "\n",
    "# Q8. Common post-hoc tests used after ANOVA:\n",
    "\n",
    "# Tukey's Honestly Significant Difference(HSD): This test compares all possible pairs of group means and controls the familywise error rate. It is often used when conducting multiple pairwise comparisons.\n",
    "\n",
    "# Bonferroni correction: It adjusts the significance level for each pairwise comparison to maintain the familywise error rate. It is more conservative than Tukey's HSD and is suitable when conducting a large number of pairwise comparisons.\n",
    "\n",
    "# Scheffe's test: This test is more conservative than Tukey's HSD and allows for complex comparisons, such as contrasts or comparisons between subsets of groups.\n",
    "\n",
    "# The choice of post-hoc test depends on the specific research question and the desired balance between the risk of Type I errors and the power to detect differences. Post-hoc tests are necessary when the overall ANOVA results are significant and there are three or more groups, to identify which specific groups differ significantly from each other.\n"
   ]
  },
  {
   "cell_type": "code",
   "execution_count": 10,
   "metadata": {},
   "outputs": [],
   "source": [
    "import scipy.stats as stats\n",
    "\n",
    "# Assume the weight loss data is stored in three separate lists: diet_A,diet_B, diet_C\n",
    "\n",
    "# Perform one-way ANOVA\n",
    "f_statistic, p_value = stats.f_oneway(diet_A, diet_B, diet_C)\n",
    "\n",
    "# Print the results\n",
    "print(\"F-statistic:\", f_statistic)\n",
    "print(\"p-value:\", p_value)\n"
   ]
  },
  {
   "cell_type": "code",
   "execution_count": null,
   "metadata": {},
   "outputs": [],
   "source": []
  }
 ],
 "metadata": {
  "kernelspec": {
   "display_name": "Python 3",
   "language": "python",
   "name": "python3"
  },
  "language_info": {
   "codemirror_mode": {
    "name": "ipython",
    "version": 3
   },
   "file_extension": ".py",
   "mimetype": "text/x-python",
   "name": "python",
   "nbconvert_exporter": "python",
   "pygments_lexer": "ipython3",
   "version": "3.8.0"
  },
  "orig_nbformat": 4
 },
 "nbformat": 4,
 "nbformat_minor": 2
}
