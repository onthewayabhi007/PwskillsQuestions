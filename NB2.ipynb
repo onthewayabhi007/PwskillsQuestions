{
 "cells": [
  {
   "cell_type": "code",
   "execution_count": null,
   "metadata": {},
   "outputs": [],
   "source": [
    "# I can certainly guide you through the process of completing this assignment. However, please note that I'm not able to access external websites or download files. I'll provide you with a step-by-step outline of how to approach each part of the assignment using scikit-learn and Python. You can then use this information to complete the assignment in a Jupyter notebook and upload it to GitHub.\n",
    "\n",
    "# **Q1. Probability of Smoker Given Health Insurance Plan:**\n",
    "# To find the probability that an employee is a smoker given that they use the health insurance plan, you can use Bayes' theorem:\n",
    "\n",
    "# \\[ P(\\text{Smoker}|\\text{Health Insurance}) = \\frac{P(\\text{Health Insurance}|\\text{Smoker}) \\cdot P(\\text{Smoker})}{P(\\text{Health Insurance})} \\]\n",
    "\n",
    "# Given that 70% of employees use the health insurance plan and 40% of those who use the plan are smokers, you can calculate the desired probability using the provided values.\n",
    "\n",
    "# **Q2. Difference between Bernoulli and Multinomial Naive Bayes:**\n",
    "# - **Bernoulli Naive Bayes:** Assumes binary features, indicating whether a particular word or feature is present or absent in a document.\n",
    "# - **Multinomial Naive Bayes:** Handles discrete features (e.g., word counts in text data), and it's suitable for text classification.\n",
    "\n",
    "# **Q3. Handling Missing Values in Bernoulli Naive Bayes:**\n",
    "# In Bernoulli Naive Bayes, missing values can be handled by treating them as an additional category, separate from the \"feature present\" and \"feature absent\" categories.\n",
    "\n",
    "# **Q4. Gaussian Naive Bayes for Multi-Class Classification:**\n",
    "# Yes, Gaussian Naive Bayes can be used for multi-class classification. It's particularly suitable when features follow a Gaussian distribution and there are multiple classes to predict.\n"
   ]
  }
 ],
 "metadata": {
  "language_info": {
   "name": "python"
  },
  "orig_nbformat": 4
 },
 "nbformat": 4,
 "nbformat_minor": 2
}
