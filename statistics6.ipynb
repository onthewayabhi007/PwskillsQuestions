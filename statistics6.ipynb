{
 "cells": [
  {
   "cell_type": "code",
   "execution_count": 1,
   "metadata": {},
   "outputs": [],
   "source": [
    "#1\n",
    "import numpy as np\n",
    "from scipy.stats import f\n",
    "\n",
    "\n",
    "def variance_ratio_test(data1, data2):\n",
    "    n1 = len(data1)\n",
    "    n2 = len(data2)\n",
    "    var1 = np.var(data1, ddof=1)\n",
    "    var2 = np.var(data2, ddof=1)\n",
    "\n",
    "    if var1 >= var2:\n",
    "        f_value = var1 / var2\n",
    "        df1 = n1 - 1\n",
    "        df2 = n2 - 1\n",
    "    else:\n",
    "        f_value = var2 / var1\n",
    "        df1 = n2 - 1\n",
    "        df2 = n1 - 1\n",
    "\n",
    "    p_value = 2 * min(f.cdf(f_value, df1, df2), 1 - f.cdf(f_value, df1, df2))\n",
    "\n",
    "    return f_value, p_value\n"
   ]
  },
  {
   "cell_type": "code",
   "execution_count": 2,
   "metadata": {},
   "outputs": [],
   "source": [
    "#2\n",
    "from scipy.stats import f\n",
    "\n",
    "\n",
    "def critical_f_value(significance_level, df1, df2):\n",
    "    alpha = significance_level / 2\n",
    "    critical_value = f.ppf(1 - alpha, df1, df2)\n",
    "    return critical_value\n"
   ]
  },
  {
   "cell_type": "code",
   "execution_count": 3,
   "metadata": {},
   "outputs": [
    {
     "name": "stdout",
     "output_type": "stream",
     "text": [
      "F-value: 0.9372599750700734\n",
      "Degrees of freedom: 99 , 99\n",
      "P-value: 0.7478254878834022\n"
     ]
    }
   ],
   "source": [
    "#3\n",
    "import numpy as np\n",
    "from scipy.stats import f\n",
    "\n",
    "\n",
    "def f_test_equal_variances(sample1, sample2):\n",
    "    n1 = len(sample1)\n",
    "    n2 = len(sample2)\n",
    "    var1 = np.var(sample1, ddof=1)\n",
    "    var2 = np.var(sample2, ddof=1)\n",
    "\n",
    "    f_value = var1 / var2\n",
    "    df1 = n1 - 1\n",
    "    df2 = n2 - 1\n",
    "\n",
    "    p_value = 2 * min(f.cdf(f_value, df1, df2), 1 - f.cdf(f_value, df1, df2))\n",
    "\n",
    "    return f_value, df1, df2, p_value\n",
    "\n",
    "\n",
    "# Example usage:\n",
    "sample1 = np.random.normal(loc=0, scale=1, size=100)\n",
    "sample2 = np.random.normal(loc=0, scale=1, size=100)\n",
    "f_value, df1, df2, p_value = f_test_equal_variances(sample1, sample2)\n",
    "print(\"F-value:\", f_value)\n",
    "print(\"Degrees of freedom:\", df1, \",\", df2)\n",
    "print(\"P-value:\", p_value)\n"
   ]
  },
  {
   "cell_type": "code",
   "execution_count": 5,
   "metadata": {},
   "outputs": [
    {
     "name": "stdout",
     "output_type": "stream",
     "text": [
      "Fail to reject the null hypothesis. Variances are not significantly different.\n"
     ]
    }
   ],
   "source": [
    "#4\n",
    "sample1 = np.random.normal(loc=0, scale=np.sqrt(10), size=12)\n",
    "sample2 = np.random.normal(loc=0, scale=np.sqrt(15), size=12)\n",
    "f_value, df1, df2, p_value = f_test_equal_variances(sample1, sample2)\n",
    "significance_level = 0.05\n",
    "\n",
    "if p_value < significance_level:\n",
    "    print(\"Reject the null hypothesis. Variances are significantly different.\")\n",
    "else:\n",
    "    print(\"Fail to reject the null hypothesis. Variances are not significantly different.\")\n"
   ]
  },
  {
   "cell_type": "code",
   "execution_count": 6,
   "metadata": {},
   "outputs": [
    {
     "name": "stdout",
     "output_type": "stream",
     "text": [
      "Fail to reject the null hypothesis. The claim is justified.\n"
     ]
    }
   ],
   "source": [
    "#5\n",
    "sample_variance = 0.006\n",
    "sample_size = 25\n",
    "claim_variance = 0.005\n",
    "degrees_of_freedom = sample_size - 1\n",
    "\n",
    "f_value, df1, df2, p_value = f_test_equal_variances(\n",
    "    np.random.normal(loc=0, scale=np.sqrt(claim_variance), size=sample_size),\n",
    "    np.random.normal(loc=0, scale=np.sqrt(sample_variance), size=sample_size)\n",
    ")\n",
    "\n",
    "significance_level = 0.01\n",
    "\n",
    "if p_value < significance_level:\n",
    "    print(\"Reject the null hypothesis. The claim is not justified.\")\n",
    "else:\n",
    "    print(\"Fail to reject the null hypothesis. The claim is justified.\")\n"
   ]
  },
  {
   "cell_type": "code",
   "execution_count": 7,
   "metadata": {},
   "outputs": [],
   "source": [
    "#6\n",
    "def f_distribution_mean_variance(df1, df2):\n",
    "    if df2 <= 2:\n",
    "        return np.nan, np.nan\n",
    "\n",
    "    mean = df2 / (df2 - 2)\n",
    "    variance = (2 * df2 ** 2 * (df1 + df2 - 2)) / \\\n",
    "        (df1 * (df2 - 2) ** 2 * (df2 - 4))\n",
    "\n",
    "    return mean, variance\n"
   ]
  },
  {
   "cell_type": "code",
   "execution_count": 8,
   "metadata": {},
   "outputs": [
    {
     "name": "stdout",
     "output_type": "stream",
     "text": [
      "Fail to reject the null hypothesis. Variances are not significantly different.\n"
     ]
    }
   ],
   "source": [
    "#7\n",
    "sample1_variance = 25\n",
    "sample2_variance = 20\n",
    "sample1_size = 10\n",
    "sample2_size = 15\n",
    "\n",
    "f_value, df1, df2, p_value = f_test_equal_variances(\n",
    "    np.random.normal(loc=0, scale=np.sqrt(\n",
    "        sample1_variance), size=sample1_size),\n",
    "    np.random.normal(loc=0, scale=np.sqrt(sample2_variance), size=sample2_size)\n",
    ")\n",
    "\n",
    "significance_level = 0.10\n",
    "\n",
    "if p_value < significance_level:\n",
    "    print(\"Reject the null hypothesis. Variances are significantly different.\")\n",
    "else:\n",
    "    print(\"Fail to reject the null hypothesis. Variances are not significantly different.\")\n"
   ]
  },
  {
   "cell_type": "code",
   "execution_count": 9,
   "metadata": {},
   "outputs": [
    {
     "name": "stdout",
     "output_type": "stream",
     "text": [
      "Fail to reject the null hypothesis. Variances are not significantly different.\n"
     ]
    }
   ],
   "source": [
    "#8\n",
    "\n",
    "restaurant_a_waiting_times = [24, 25, 28, 23, 22, 20, 27]\n",
    "restaurant_b_waiting_times = [31, 33, 35, 30, 32, 36]\n",
    "\n",
    "f_value, df1, df2, p_value = f_test_equal_variances(\n",
    "    restaurant_a_waiting_times,\n",
    "    restaurant_b_waiting_times\n",
    ")\n",
    "\n",
    "significance_level = 0.05\n",
    "\n",
    "if p_value < significance_level:\n",
    "    print(\"Reject the null hypothesis. Variances are significantly different.\")\n",
    "else:\n",
    "    print(\"Fail to reject the null hypothesis. Variances are not significantly different.\")\n"
   ]
  },
  {
   "cell_type": "code",
   "execution_count": 10,
   "metadata": {},
   "outputs": [
    {
     "name": "stdout",
     "output_type": "stream",
     "text": [
      "Fail to reject the null hypothesis. Variances are not significantly different.\n"
     ]
    }
   ],
   "source": [
    "#9\n",
    "group_a_scores = [80, 85, 90, 92, 87, 83]\n",
    "group_b_scores = [75, 78, 82, 79, 81, 84]\n",
    "\n",
    "f_value, df1, df2, p_value = f_test_equal_variances(\n",
    "    group_a_scores,\n",
    "    group_b_scores\n",
    ")\n",
    "\n",
    "significance_level = 0.01\n",
    "\n",
    "if p_value < significance_level:\n",
    "    print(\"Reject the null hypothesis. Variances are significantly different.\")\n",
    "else:\n",
    "    print(\"Fail to reject the null hypothesis. Variances are not significantly different.\")\n"
   ]
  },
  {
   "cell_type": "code",
   "execution_count": null,
   "metadata": {},
   "outputs": [],
   "source": []
  }
 ],
 "metadata": {
  "kernelspec": {
   "display_name": "Python 3",
   "language": "python",
   "name": "python3"
  },
  "language_info": {
   "codemirror_mode": {
    "name": "ipython",
    "version": 3
   },
   "file_extension": ".py",
   "mimetype": "text/x-python",
   "name": "python",
   "nbconvert_exporter": "python",
   "pygments_lexer": "ipython3",
   "version": "3.8.0"
  },
  "orig_nbformat": 4
 },
 "nbformat": 4,
 "nbformat_minor": 2
}
